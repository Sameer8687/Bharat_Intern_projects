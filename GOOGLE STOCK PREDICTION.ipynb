{
 "cells": [
  {
   "cell_type": "markdown",
   "id": "303a6956",
   "metadata": {},
   "source": [
    "## Google Stock Price Prediction\n",
    "### Author:Gowri S\n",
    "\n",
    "\n",
    "This is a time series forecasting problem.It is an attempt to forecast the future values by understanding the past values, and forecast te future.\n",
    "Basic steps in forecasting\n",
    "\n",
    "    *Problem statement\n",
    "    *Gathering the information\n",
    "    *Understanding the data\n",
    "    *Choosing and Fitting the models\n",
    "    *Evaluating the performance\n",
    "    *Forecast the Future\n",
    "    \n",
    " Stock data is a sequential data that is they need to be analysed according to the order by time.\n",
    " In Recurrent neural network RNN we are dealt with problem of vanishing gradient thus previous data will become less significant after long backpropagation.That is memory is not that deep.So we use Long short term memory LSTM.This is because stock prediction need long term memory "
   ]
  },
  {
   "cell_type": "markdown",
   "id": "f96a8239",
   "metadata": {},
   "source": [
    "### Import neccessary Libraries"
   ]
  },
  {
   "cell_type": "code",
   "execution_count": 1,
   "id": "323f6721",
   "metadata": {},
   "outputs": [],
   "source": [
    "import warnings\n",
    "warnings.filterwarnings('ignore')\n",
    "import pandas as pd\n",
    "import numpy as np\n",
    "import matplotlib.pyplot as plt"
   ]
  },
  {
   "cell_type": "markdown",
   "id": "fe94114c",
   "metadata": {},
   "source": [
    "### Load the dataset and explore"
   ]
  },
  {
   "cell_type": "code",
   "execution_count": 2,
   "id": "330a8e5a",
   "metadata": {},
   "outputs": [
    {
     "data": {
      "text/html": [
       "<div>\n",
       "<style scoped>\n",
       "    .dataframe tbody tr th:only-of-type {\n",
       "        vertical-align: middle;\n",
       "    }\n",
       "\n",
       "    .dataframe tbody tr th {\n",
       "        vertical-align: top;\n",
       "    }\n",
       "\n",
       "    .dataframe thead th {\n",
       "        text-align: right;\n",
       "    }\n",
       "</style>\n",
       "<table border=\"1\" class=\"dataframe\">\n",
       "  <thead>\n",
       "    <tr style=\"text-align: right;\">\n",
       "      <th></th>\n",
       "      <th>Date</th>\n",
       "      <th>High</th>\n",
       "      <th>Low</th>\n",
       "      <th>Open</th>\n",
       "      <th>Close</th>\n",
       "      <th>Volume</th>\n",
       "      <th>Adj Close</th>\n",
       "    </tr>\n",
       "  </thead>\n",
       "  <tbody>\n",
       "    <tr>\n",
       "      <th>0</th>\n",
       "      <td>2019-09-30</td>\n",
       "      <td>48.796001</td>\n",
       "      <td>47.222000</td>\n",
       "      <td>48.599998</td>\n",
       "      <td>48.174000</td>\n",
       "      <td>29399000.0</td>\n",
       "      <td>48.174000</td>\n",
       "    </tr>\n",
       "    <tr>\n",
       "      <th>1</th>\n",
       "      <td>2019-10-01</td>\n",
       "      <td>49.189999</td>\n",
       "      <td>47.826000</td>\n",
       "      <td>48.299999</td>\n",
       "      <td>48.938000</td>\n",
       "      <td>30813000.0</td>\n",
       "      <td>48.938000</td>\n",
       "    </tr>\n",
       "    <tr>\n",
       "      <th>2</th>\n",
       "      <td>2019-10-02</td>\n",
       "      <td>48.930000</td>\n",
       "      <td>47.886002</td>\n",
       "      <td>48.658001</td>\n",
       "      <td>48.625999</td>\n",
       "      <td>28157000.0</td>\n",
       "      <td>48.625999</td>\n",
       "    </tr>\n",
       "    <tr>\n",
       "      <th>3</th>\n",
       "      <td>2019-10-03</td>\n",
       "      <td>46.896000</td>\n",
       "      <td>44.855999</td>\n",
       "      <td>46.372002</td>\n",
       "      <td>46.605999</td>\n",
       "      <td>75422500.0</td>\n",
       "      <td>46.605999</td>\n",
       "    </tr>\n",
       "    <tr>\n",
       "      <th>4</th>\n",
       "      <td>2019-10-04</td>\n",
       "      <td>46.956001</td>\n",
       "      <td>45.613998</td>\n",
       "      <td>46.321999</td>\n",
       "      <td>46.285999</td>\n",
       "      <td>39975000.0</td>\n",
       "      <td>46.285999</td>\n",
       "    </tr>\n",
       "  </tbody>\n",
       "</table>\n",
       "</div>"
      ],
      "text/plain": [
       "         Date       High        Low       Open      Close      Volume  \\\n",
       "0  2019-09-30  48.796001  47.222000  48.599998  48.174000  29399000.0   \n",
       "1  2019-10-01  49.189999  47.826000  48.299999  48.938000  30813000.0   \n",
       "2  2019-10-02  48.930000  47.886002  48.658001  48.625999  28157000.0   \n",
       "3  2019-10-03  46.896000  44.855999  46.372002  46.605999  75422500.0   \n",
       "4  2019-10-04  46.956001  45.613998  46.321999  46.285999  39975000.0   \n",
       "\n",
       "   Adj Close  \n",
       "0  48.174000  \n",
       "1  48.938000  \n",
       "2  48.625999  \n",
       "3  46.605999  \n",
       "4  46.285999  "
      ]
     },
     "execution_count": 2,
     "metadata": {},
     "output_type": "execute_result"
    }
   ],
   "source": [
    "tesla=pd.read_csv(r\"C:\\Users\\hp\\Desktop\\real world problems data set\\bharat intern\\TSLA.csv\")\n",
    "tesla.head()"
   ]
  },
  {
   "cell_type": "code",
   "execution_count": 3,
   "id": "6b0352e3",
   "metadata": {},
   "outputs": [
    {
     "data": {
      "text/html": [
       "<div>\n",
       "<style scoped>\n",
       "    .dataframe tbody tr th:only-of-type {\n",
       "        vertical-align: middle;\n",
       "    }\n",
       "\n",
       "    .dataframe tbody tr th {\n",
       "        vertical-align: top;\n",
       "    }\n",
       "\n",
       "    .dataframe thead th {\n",
       "        text-align: right;\n",
       "    }\n",
       "</style>\n",
       "<table border=\"1\" class=\"dataframe\">\n",
       "  <thead>\n",
       "    <tr style=\"text-align: right;\">\n",
       "      <th></th>\n",
       "      <th>High</th>\n",
       "      <th>Low</th>\n",
       "      <th>Open</th>\n",
       "      <th>Close</th>\n",
       "      <th>Volume</th>\n",
       "      <th>Adj Close</th>\n",
       "    </tr>\n",
       "    <tr>\n",
       "      <th>Date</th>\n",
       "      <th></th>\n",
       "      <th></th>\n",
       "      <th></th>\n",
       "      <th></th>\n",
       "      <th></th>\n",
       "      <th></th>\n",
       "    </tr>\n",
       "  </thead>\n",
       "  <tbody>\n",
       "    <tr>\n",
       "      <th>2019-09-30</th>\n",
       "      <td>48.796001</td>\n",
       "      <td>47.222000</td>\n",
       "      <td>48.599998</td>\n",
       "      <td>48.174000</td>\n",
       "      <td>29399000.0</td>\n",
       "      <td>48.174000</td>\n",
       "    </tr>\n",
       "    <tr>\n",
       "      <th>2019-10-01</th>\n",
       "      <td>49.189999</td>\n",
       "      <td>47.826000</td>\n",
       "      <td>48.299999</td>\n",
       "      <td>48.938000</td>\n",
       "      <td>30813000.0</td>\n",
       "      <td>48.938000</td>\n",
       "    </tr>\n",
       "    <tr>\n",
       "      <th>2019-10-02</th>\n",
       "      <td>48.930000</td>\n",
       "      <td>47.886002</td>\n",
       "      <td>48.658001</td>\n",
       "      <td>48.625999</td>\n",
       "      <td>28157000.0</td>\n",
       "      <td>48.625999</td>\n",
       "    </tr>\n",
       "    <tr>\n",
       "      <th>2019-10-03</th>\n",
       "      <td>46.896000</td>\n",
       "      <td>44.855999</td>\n",
       "      <td>46.372002</td>\n",
       "      <td>46.605999</td>\n",
       "      <td>75422500.0</td>\n",
       "      <td>46.605999</td>\n",
       "    </tr>\n",
       "    <tr>\n",
       "      <th>2019-10-04</th>\n",
       "      <td>46.956001</td>\n",
       "      <td>45.613998</td>\n",
       "      <td>46.321999</td>\n",
       "      <td>46.285999</td>\n",
       "      <td>39975000.0</td>\n",
       "      <td>46.285999</td>\n",
       "    </tr>\n",
       "  </tbody>\n",
       "</table>\n",
       "</div>"
      ],
      "text/plain": [
       "                 High        Low       Open      Close      Volume  Adj Close\n",
       "Date                                                                         \n",
       "2019-09-30  48.796001  47.222000  48.599998  48.174000  29399000.0  48.174000\n",
       "2019-10-01  49.189999  47.826000  48.299999  48.938000  30813000.0  48.938000\n",
       "2019-10-02  48.930000  47.886002  48.658001  48.625999  28157000.0  48.625999\n",
       "2019-10-03  46.896000  44.855999  46.372002  46.605999  75422500.0  46.605999\n",
       "2019-10-04  46.956001  45.613998  46.321999  46.285999  39975000.0  46.285999"
      ]
     },
     "execution_count": 3,
     "metadata": {},
     "output_type": "execute_result"
    }
   ],
   "source": [
    "tesla=pd.read_csv(r\"C:\\Users\\hp\\Desktop\\real world problems data set\\bharat intern\\TSLA.csv\",parse_dates=True,index_col='Date')\n",
    "tesla.head()"
   ]
  },
  {
   "cell_type": "code",
   "execution_count": 4,
   "id": "a9e1b5bb",
   "metadata": {},
   "outputs": [
    {
     "name": "stdout",
     "output_type": "stream",
     "text": [
      "<class 'pandas.core.frame.DataFrame'>\n",
      "DatetimeIndex: 639 entries, 2019-09-30 to 2022-04-11\n",
      "Data columns (total 6 columns):\n",
      " #   Column     Non-Null Count  Dtype  \n",
      "---  ------     --------------  -----  \n",
      " 0   High       639 non-null    float64\n",
      " 1   Low        639 non-null    float64\n",
      " 2   Open       639 non-null    float64\n",
      " 3   Close      639 non-null    float64\n",
      " 4   Volume     639 non-null    float64\n",
      " 5   Adj Close  639 non-null    float64\n",
      "dtypes: float64(6)\n",
      "memory usage: 34.9 KB\n"
     ]
    }
   ],
   "source": [
    "tesla.info()"
   ]
  },
  {
   "cell_type": "code",
   "execution_count": 5,
   "id": "0faed8ca",
   "metadata": {},
   "outputs": [
    {
     "data": {
      "text/plain": [
       "<Axes: xlabel='Date'>"
      ]
     },
     "execution_count": 5,
     "metadata": {},
     "output_type": "execute_result"
    },
    {
     "data": {
      "image/png": "[encoded data removed]",
      "text/plain": [
       "<Figure size 640x480 with 1 Axes>"
      ]
     },
     "metadata": {},
     "output_type": "display_data"
    }
   ],
   "source": [
    "tesla['Close'].plot()"
   ]
  },
  {
   "cell_type": "code",
   "execution_count": 6,
   "id": "79cdb696",
   "metadata": {},
   "outputs": [
    {
     "data": {
      "text/plain": [
       "639"
      ]
     },
     "execution_count": 6,
     "metadata": {},
     "output_type": "execute_result"
    }
   ],
   "source": [
    "len(tesla)"
   ]
  },
  {
   "cell_type": "code",
   "execution_count": 7,
   "id": "81544167",
   "metadata": {},
   "outputs": [
    {
     "data": {
      "text/plain": [
       "Date\n",
       "2019-09-30      48.174000\n",
       "2019-10-01      48.938000\n",
       "2019-10-02      48.625999\n",
       "2019-10-03      46.605999\n",
       "2019-10-04      46.285999\n",
       "                 ...     \n",
       "2022-04-05    1091.260010\n",
       "2022-04-06    1045.760010\n",
       "2022-04-07    1057.260010\n",
       "2022-04-08    1025.489990\n",
       "2022-04-11     975.929993\n",
       "Name: Close, Length: 639, dtype: float64"
      ]
     },
     "execution_count": 7,
     "metadata": {},
     "output_type": "execute_result"
    }
   ],
   "source": [
    "tesla_close=tesla['Close']\n",
    "tesla_close"
   ]
  },
  {
   "cell_type": "code",
   "execution_count": 8,
   "id": "97d08575",
   "metadata": {},
   "outputs": [
    {
     "data": {
      "text/plain": [
       "0        48.174000\n",
       "1        48.938000\n",
       "2        48.625999\n",
       "3        46.605999\n",
       "4        46.285999\n",
       "          ...     \n",
       "634    1091.260010\n",
       "635    1045.760010\n",
       "636    1057.260010\n",
       "637    1025.489990\n",
       "638     975.929993\n",
       "Name: Close, Length: 639, dtype: float64"
      ]
     },
     "execution_count": 8,
     "metadata": {},
     "output_type": "execute_result"
    }
   ],
   "source": [
    "tesla_close.reset_index(drop=True,inplace=True)\n",
    "tesla_close"
   ]
  },
  {
   "cell_type": "code",
   "execution_count": 9,
   "id": "dc8a6967",
   "metadata": {
    "scrolled": true
   },
   "outputs": [
    {
     "data": {
      "text/html": [
       "<div>\n",
       "<style scoped>\n",
       "    .dataframe tbody tr th:only-of-type {\n",
       "        vertical-align: middle;\n",
       "    }\n",
       "\n",
       "    .dataframe tbody tr th {\n",
       "        vertical-align: top;\n",
       "    }\n",
       "\n",
       "    .dataframe thead th {\n",
       "        text-align: right;\n",
       "    }\n",
       "</style>\n",
       "<table border=\"1\" class=\"dataframe\">\n",
       "  <thead>\n",
       "    <tr style=\"text-align: right;\">\n",
       "      <th></th>\n",
       "      <th>Close</th>\n",
       "    </tr>\n",
       "  </thead>\n",
       "  <tbody>\n",
       "    <tr>\n",
       "      <th>0</th>\n",
       "      <td>48.174000</td>\n",
       "    </tr>\n",
       "    <tr>\n",
       "      <th>1</th>\n",
       "      <td>48.938000</td>\n",
       "    </tr>\n",
       "    <tr>\n",
       "      <th>2</th>\n",
       "      <td>48.625999</td>\n",
       "    </tr>\n",
       "    <tr>\n",
       "      <th>3</th>\n",
       "      <td>46.605999</td>\n",
       "    </tr>\n",
       "    <tr>\n",
       "      <th>4</th>\n",
       "      <td>46.285999</td>\n",
       "    </tr>\n",
       "    <tr>\n",
       "      <th>...</th>\n",
       "      <td>...</td>\n",
       "    </tr>\n",
       "    <tr>\n",
       "      <th>634</th>\n",
       "      <td>1091.260010</td>\n",
       "    </tr>\n",
       "    <tr>\n",
       "      <th>635</th>\n",
       "      <td>1045.760010</td>\n",
       "    </tr>\n",
       "    <tr>\n",
       "      <th>636</th>\n",
       "      <td>1057.260010</td>\n",
       "    </tr>\n",
       "    <tr>\n",
       "      <th>637</th>\n",
       "      <td>1025.489990</td>\n",
       "    </tr>\n",
       "    <tr>\n",
       "      <th>638</th>\n",
       "      <td>975.929993</td>\n",
       "    </tr>\n",
       "  </tbody>\n",
       "</table>\n",
       "<p>639 rows × 1 columns</p>\n",
       "</div>"
      ],
      "text/plain": [
       "           Close\n",
       "0      48.174000\n",
       "1      48.938000\n",
       "2      48.625999\n",
       "3      46.605999\n",
       "4      46.285999\n",
       "..           ...\n",
       "634  1091.260010\n",
       "635  1045.760010\n",
       "636  1057.260010\n",
       "637  1025.489990\n",
       "638   975.929993\n",
       "\n",
       "[639 rows x 1 columns]"
      ]
     },
     "execution_count": 9,
     "metadata": {},
     "output_type": "execute_result"
    }
   ],
   "source": [
    "tesla_close=pd.DataFrame(tesla_close)\n",
    "tesla_close"
   ]
  },
  {
   "cell_type": "markdown",
   "id": "3500894b",
   "metadata": {},
   "source": [
    "### Train test split"
   ]
  },
  {
   "cell_type": "code",
   "execution_count": 10,
   "id": "09f95434",
   "metadata": {},
   "outputs": [
    {
     "data": {
      "text/plain": [
       "608"
      ]
     },
     "execution_count": 10,
     "metadata": {},
     "output_type": "execute_result"
    }
   ],
   "source": [
    "training_data_len=int(np.ceil(len(tesla_close)*.95))\n",
    "training_data_len"
   ]
  },
  {
   "cell_type": "code",
   "execution_count": 11,
   "id": "1de029b3",
   "metadata": {},
   "outputs": [],
   "source": [
    "train=tesla_close.iloc[:training_data_len]\n",
    "test=tesla_close.iloc[training_data_len:]"
   ]
  },
  {
   "cell_type": "code",
   "execution_count": 12,
   "id": "9abd18fd",
   "metadata": {},
   "outputs": [],
   "source": [
    "from sklearn.preprocessing import MinMaxScaler"
   ]
  },
  {
   "cell_type": "code",
   "execution_count": 13,
   "id": "1bf950d3",
   "metadata": {},
   "outputs": [],
   "source": [
    "scaler=MinMaxScaler()"
   ]
  },
  {
   "cell_type": "code",
   "execution_count": 14,
   "id": "25d0926d",
   "metadata": {},
   "outputs": [
    {
     "data": {
      "text/html": [
       "<style>#sk-container-id-1 {color: black;}#sk-container-id-1 pre{padding: 0;}#sk-container-id-1 div.sk-toggleable {background-color: white;}#sk-container-id-1 label.sk-toggleable__label {cursor: pointer;display: block;width: 100%;margin-bottom: 0;padding: 0.3em;box-sizing: border-box;text-align: center;}#sk-container-id-1 label.sk-toggleable__label-arrow:before {content: \"▸\";float: left;margin-right: 0.25em;color: #696969;}#sk-container-id-1 label.sk-toggleable__label-arrow:hover:before {color: black;}#sk-container-id-1 div.sk-estimator:hover label.sk-toggleable__label-arrow:before {color: black;}#sk-container-id-1 div.sk-toggleable__content {max-height: 0;max-width: 0;overflow: hidden;text-align: left;background-color: #f0f8ff;}#sk-container-id-1 div.sk-toggleable__content pre {margin: 0.2em;color: black;border-radius: 0.25em;background-color: #f0f8ff;}#sk-container-id-1 input.sk-toggleable__control:checked~div.sk-toggleable__content {max-height: 200px;max-width: 100%;overflow: auto;}#sk-container-id-1 input.sk-toggleable__control:checked~label.sk-toggleable__label-arrow:before {content: \"▾\";}#sk-container-id-1 div.sk-estimator input.sk-toggleable__control:checked~label.sk-toggleable__label {background-color: #d4ebff;}#sk-container-id-1 div.sk-label input.sk-toggleable__control:checked~label.sk-toggleable__label {background-color: #d4ebff;}#sk-container-id-1 input.sk-hidden--visually {border: 0;clip: rect(1px 1px 1px 1px);clip: rect(1px, 1px, 1px, 1px);height: 1px;margin: -1px;overflow: hidden;padding: 0;position: absolute;width: 1px;}#sk-container-id-1 div.sk-estimator {font-family: monospace;background-color: #f0f8ff;border: 1px dotted black;border-radius: 0.25em;box-sizing: border-box;margin-bottom: 0.5em;}#sk-container-id-1 div.sk-estimator:hover {background-color: #d4ebff;}#sk-container-id-1 div.sk-parallel-item::after {content: \"\";width: 100%;border-bottom: 1px solid gray;flex-grow: 1;}#sk-container-id-1 div.sk-label:hover label.sk-toggleable__label {background-color: #d4ebff;}#sk-container-id-1 div.sk-serial::before {content: \"\";position: absolute;border-left: 1px solid gray;box-sizing: border-box;top: 0;bottom: 0;left: 50%;z-index: 0;}#sk-container-id-1 div.sk-serial {display: flex;flex-direction: column;align-items: center;background-color: white;padding-right: 0.2em;padding-left: 0.2em;position: relative;}#sk-container-id-1 div.sk-item {position: relative;z-index: 1;}#sk-container-id-1 div.sk-parallel {display: flex;align-items: stretch;justify-content: center;background-color: white;position: relative;}#sk-container-id-1 div.sk-item::before, #sk-container-id-1 div.sk-parallel-item::before {content: \"\";position: absolute;border-left: 1px solid gray;box-sizing: border-box;top: 0;bottom: 0;left: 50%;z-index: -1;}#sk-container-id-1 div.sk-parallel-item {display: flex;flex-direction: column;z-index: 1;position: relative;background-color: white;}#sk-container-id-1 div.sk-parallel-item:first-child::after {align-self: flex-end;width: 50%;}#sk-container-id-1 div.sk-parallel-item:last-child::after {align-self: flex-start;width: 50%;}#sk-container-id-1 div.sk-parallel-item:only-child::after {width: 0;}#sk-container-id-1 div.sk-dashed-wrapped {border: 1px dashed gray;margin: 0 0.4em 0.5em 0.4em;box-sizing: border-box;padding-bottom: 0.4em;background-color: white;}#sk-container-id-1 div.sk-label label {font-family: monospace;font-weight: bold;display: inline-block;line-height: 1.2em;}#sk-container-id-1 div.sk-label-container {text-align: center;}#sk-container-id-1 div.sk-container {/* jupyter's `normalize.less` sets `[hidden] { display: none; }` but bootstrap.min.css set `[hidden] { display: none !important; }` so we also need the `!important` here to be able to override the default hidden behavior on the sphinx rendered scikit-learn.org. See: https://github.com/scikit-learn/scikit-learn/issues/21755 */display: inline-block !important;position: relative;}#sk-container-id-1 div.sk-text-repr-fallback {display: none;}</style><div id=\"sk-container-id-1\" class=\"sk-top-container\"><div class=\"sk-text-repr-fallback\"><pre>MinMaxScaler()</pre><b>In a Jupyter environment, please rerun this cell to show the HTML representation or trust the notebook. <br />On GitHub, the HTML representation is unable to render, please try loading this page with nbviewer.org.</b></div><div class=\"sk-container\" hidden><div class=\"sk-item\"><div class=\"sk-estimator sk-toggleable\"><input class=\"sk-toggleable__control sk-hidden--visually\" id=\"sk-estimator-id-1\" type=\"checkbox\" checked><label for=\"sk-estimator-id-1\" class=\"sk-toggleable__label sk-toggleable__label-arrow\">MinMaxScaler</label><div class=\"sk-toggleable__content\"><pre>MinMaxScaler()</pre></div></div></div></div></div>"
      ],
      "text/plain": [
       "MinMaxScaler()"
      ]
     },
     "execution_count": 14,
     "metadata": {},
     "output_type": "execute_result"
    }
   ],
   "source": [
    "scaler.fit(train)"
   ]
  },
  {
   "cell_type": "markdown",
   "id": "ac9ff6eb",
   "metadata": {},
   "source": [
    "while we are applying scaling we need to split the data first and then apply scaling on the training data set and then we project the same on the test data set"
   ]
  },
  {
   "cell_type": "code",
   "execution_count": 15,
   "id": "3a52758f",
   "metadata": {},
   "outputs": [],
   "source": [
    "scaled_train=scaler.transform(train)\n",
    "scaled_test=scaler.transform(test)"
   ]
  },
  {
   "cell_type": "code",
   "execution_count": 16,
   "id": "48ba309b",
   "metadata": {},
   "outputs": [],
   "source": [
    "from tensorflow.keras.preprocessing.sequence import TimeseriesGenerator\n",
    "#timeseriesgenerator helps us to transform the values and save it in an array format"
   ]
  },
  {
   "cell_type": "code",
   "execution_count": 17,
   "id": "d1e95d16",
   "metadata": {},
   "outputs": [],
   "source": [
    "#help(TimeseriesGenerator)"
   ]
  },
  {
   "cell_type": "markdown",
   "id": "a75ecce8",
   "metadata": {},
   "source": [
    "### Model Building"
   ]
  },
  {
   "cell_type": "code",
   "execution_count": 18,
   "id": "70ef8c74",
   "metadata": {},
   "outputs": [
    {
     "data": {
      "text/plain": [
       "31"
      ]
     },
     "execution_count": 18,
     "metadata": {},
     "output_type": "execute_result"
    }
   ],
   "source": [
    "len(test)"
   ]
  },
  {
   "cell_type": "code",
   "execution_count": 19,
   "id": "5b81a38a",
   "metadata": {},
   "outputs": [],
   "source": [
    "from tensorflow.keras.models import Sequential\n",
    "from tensorflow.keras.layers import Dense,SimpleRNN,LSTM,Dropout"
   ]
  },
  {
   "cell_type": "code",
   "execution_count": 20,
   "id": "38143efe",
   "metadata": {},
   "outputs": [
    {
     "data": {
      "text/plain": [
       "(639, 1)"
      ]
     },
     "execution_count": 20,
     "metadata": {},
     "output_type": "execute_result"
    }
   ],
   "source": [
    "df_array=np.array(tesla_close)\n",
    "df_array.shape"
   ]
  },
  {
   "cell_type": "code",
   "execution_count": 21,
   "id": "7eab8875",
   "metadata": {},
   "outputs": [],
   "source": [
    "from tensorflow.keras.callbacks import EarlyStopping\n",
    "early_stop=EarlyStopping(monitor='val_loss',patience=7)"
   ]
  },
  {
   "cell_type": "code",
   "execution_count": 22,
   "id": "3f8087ee",
   "metadata": {},
   "outputs": [],
   "source": [
    "length=(len(test))-1"
   ]
  },
  {
   "cell_type": "code",
   "execution_count": 23,
   "id": "bb9620d3",
   "metadata": {},
   "outputs": [
    {
     "data": {
      "text/plain": [
       "(31, 1)"
      ]
     },
     "execution_count": 23,
     "metadata": {},
     "output_type": "execute_result"
    }
   ],
   "source": [
    "scaled_test.shape"
   ]
  },
  {
   "cell_type": "code",
   "execution_count": 24,
   "id": "431d7eaf",
   "metadata": {},
   "outputs": [],
   "source": [
    "generator=TimeseriesGenerator(scaled_train,scaled_train,length=length,batch_size=16)\n",
    "validation_generator=TimeseriesGenerator(scaled_test,scaled_test,length=length,batch_size=16)"
   ]
  },
  {
   "cell_type": "code",
   "execution_count": 25,
   "id": "7d8820b2",
   "metadata": {},
   "outputs": [],
   "source": [
    "model2=Sequential()\n",
    "model2.add(LSTM(60,input_shape=(length,1)))\n",
    "model2.add(Dropout(rate=0.2))\n",
    "model2.add(Dense(1))"
   ]
  },
  {
   "cell_type": "code",
   "execution_count": 26,
   "id": "49c9465b",
   "metadata": {},
   "outputs": [],
   "source": [
    "model2.compile(optimizer='adam',loss='mse')"
   ]
  },
  {
   "cell_type": "code",
   "execution_count": 27,
   "id": "7967efcf",
   "metadata": {},
   "outputs": [
    {
     "name": "stdout",
     "output_type": "stream",
     "text": [
      "Epoch 1/50\n",
      "37/37 [==============================] - 6s 48ms/step - loss: 0.0089 - val_loss: 0.0096\n",
      "Epoch 2/50\n",
      "37/37 [==============================] - 1s 20ms/step - loss: 0.0149 - val_loss: 0.0029\n",
      "Epoch 3/50\n",
      "37/37 [==============================] - 1s 20ms/step - loss: 0.0103 - val_loss: 0.0070\n",
      "Epoch 4/50\n",
      "37/37 [==============================] - 1s 20ms/step - loss: 0.0077 - val_loss: 0.0043\n",
      "Epoch 5/50\n",
      "37/37 [==============================] - 1s 20ms/step - loss: 0.0047 - val_loss: 0.0070\n",
      "Epoch 6/50\n",
      "37/37 [==============================] - 1s 20ms/step - loss: 0.0036 - val_loss: 0.0080\n",
      "Epoch 7/50\n",
      "37/37 [==============================] - 1s 20ms/step - loss: 0.0039 - val_loss: 0.0098\n",
      "Epoch 8/50\n",
      "37/37 [==============================] - 1s 20ms/step - loss: 0.0030 - val_loss: 0.0058\n",
      "Epoch 9/50\n",
      "37/37 [==============================] - 1s 20ms/step - loss: 0.0036 - val_loss: 0.0055\n",
      "Epoch 10/50\n",
      "37/37 [==============================] - 1s 20ms/step - loss: 0.0038 - val_loss: 0.0065\n",
      "Epoch 11/50\n",
      "37/37 [==============================] - 1s 20ms/step - loss: 0.0034 - val_loss: 0.0034\n",
      "Epoch 12/50\n",
      "37/37 [==============================] - 1s 20ms/step - loss: 0.0028 - val_loss: 0.0082\n",
      "Epoch 13/50\n",
      "37/37 [==============================] - 1s 20ms/step - loss: 0.0026 - val_loss: 0.0059\n",
      "Epoch 14/50\n",
      "37/37 [==============================] - 1s 20ms/step - loss: 0.0025 - val_loss: 0.0061\n",
      "Epoch 15/50\n",
      "37/37 [==============================] - 1s 20ms/step - loss: 0.0024 - val_loss: 0.0035\n",
      "Epoch 16/50\n",
      "37/37 [==============================] - 1s 20ms/step - loss: 0.0028 - val_loss: 0.0080\n",
      "Epoch 17/50\n",
      "37/37 [==============================] - 1s 20ms/step - loss: 0.0027 - val_loss: 0.0072\n",
      "Epoch 18/50\n",
      "37/37 [==============================] - 1s 20ms/step - loss: 0.0027 - val_loss: 0.0034\n",
      "Epoch 19/50\n",
      "37/37 [==============================] - 1s 20ms/step - loss: 0.0031 - val_loss: 0.0061\n",
      "Epoch 20/50\n",
      "37/37 [==============================] - 1s 20ms/step - loss: 0.0036 - val_loss: 0.0049\n",
      "Epoch 21/50\n",
      "37/37 [==============================] - 1s 20ms/step - loss: 0.0023 - val_loss: 0.0034\n",
      "Epoch 22/50\n",
      "37/37 [==============================] - 1s 20ms/step - loss: 0.0028 - val_loss: 0.0033\n",
      "Epoch 23/50\n",
      "37/37 [==============================] - 1s 20ms/step - loss: 0.0025 - val_loss: 0.0042\n",
      "Epoch 24/50\n",
      "37/37 [==============================] - 1s 20ms/step - loss: 0.0019 - val_loss: 0.0037\n",
      "Epoch 25/50\n",
      "37/37 [==============================] - 1s 20ms/step - loss: 0.0023 - val_loss: 0.0072\n",
      "Epoch 26/50\n",
      "37/37 [==============================] - 1s 20ms/step - loss: 0.0020 - val_loss: 0.0037\n",
      "Epoch 27/50\n",
      "37/37 [==============================] - 1s 20ms/step - loss: 0.0022 - val_loss: 0.0066\n",
      "Epoch 28/50\n",
      "37/37 [==============================] - 1s 20ms/step - loss: 0.0022 - val_loss: 0.0074\n",
      "Epoch 29/50\n",
      "37/37 [==============================] - 1s 20ms/step - loss: 0.0020 - val_loss: 0.0050\n",
      "Epoch 30/50\n",
      "37/37 [==============================] - 1s 20ms/step - loss: 0.0026 - val_loss: 0.0036\n",
      "Epoch 31/50\n",
      "37/37 [==============================] - 1s 21ms/step - loss: 0.0026 - val_loss: 0.0026\n",
      "Epoch 32/50\n",
      "37/37 [==============================] - 1s 20ms/step - loss: 0.0018 - val_loss: 0.0020\n",
      "Epoch 33/50\n",
      "37/37 [==============================] - 1s 20ms/step - loss: 0.0021 - val_loss: 0.0045\n",
      "Epoch 34/50\n",
      "37/37 [==============================] - 1s 20ms/step - loss: 0.0019 - val_loss: 0.0061\n",
      "Epoch 35/50\n",
      "37/37 [==============================] - 1s 19ms/step - loss: 0.0019 - val_loss: 0.0072\n",
      "Epoch 36/50\n",
      "37/37 [==============================] - 1s 20ms/step - loss: 0.0019 - val_loss: 0.0035\n",
      "Epoch 37/50\n",
      "37/37 [==============================] - 1s 20ms/step - loss: 0.0019 - val_loss: 0.0074\n",
      "Epoch 38/50\n",
      "37/37 [==============================] - 1s 19ms/step - loss: 0.0019 - val_loss: 0.0061\n",
      "Epoch 39/50\n",
      "37/37 [==============================] - 1s 20ms/step - loss: 0.0020 - val_loss: 0.0024\n",
      "Epoch 40/50\n",
      "37/37 [==============================] - 1s 20ms/step - loss: 0.0022 - val_loss: 0.0030\n",
      "Epoch 41/50\n",
      "37/37 [==============================] - 1s 19ms/step - loss: 0.0024 - val_loss: 0.0038\n",
      "Epoch 42/50\n",
      "37/37 [==============================] - 1s 20ms/step - loss: 0.0017 - val_loss: 0.0055\n",
      "Epoch 43/50\n",
      "37/37 [==============================] - 1s 20ms/step - loss: 0.0017 - val_loss: 0.0050\n",
      "Epoch 44/50\n",
      "37/37 [==============================] - 1s 20ms/step - loss: 0.0017 - val_loss: 0.0051\n",
      "Epoch 45/50\n",
      "37/37 [==============================] - 1s 19ms/step - loss: 0.0017 - val_loss: 0.0032\n",
      "Epoch 46/50\n",
      "37/37 [==============================] - 1s 20ms/step - loss: 0.0015 - val_loss: 0.0029\n",
      "Epoch 47/50\n",
      "37/37 [==============================] - 1s 20ms/step - loss: 0.0016 - val_loss: 0.0049\n",
      "Epoch 48/50\n",
      "37/37 [==============================] - 1s 20ms/step - loss: 0.0019 - val_loss: 0.0026\n",
      "Epoch 49/50\n",
      "37/37 [==============================] - 1s 20ms/step - loss: 0.0015 - val_loss: 0.0023\n",
      "Epoch 50/50\n",
      "37/37 [==============================] - 1s 19ms/step - loss: 0.0015 - val_loss: 0.0038\n"
     ]
    },
    {
     "data": {
      "text/plain": [
       "<keras.src.callbacks.History at 0x1ccdbf6fdd0>"
      ]
     },
     "execution_count": 27,
     "metadata": {},
     "output_type": "execute_result"
    }
   ],
   "source": [
    "model2.fit_generator(generator,epochs=50,validation_data=validation_generator,shuffle=False)"
   ]
  },
  {
   "cell_type": "code",
   "execution_count": 28,
   "id": "434ce606",
   "metadata": {},
   "outputs": [
    {
     "data": {
      "text/plain": [
       "<Axes: >"
      ]
     },
     "execution_count": 28,
     "metadata": {},
     "output_type": "execute_result"
    },
    {
     "data": {
      "image/png": "[encoded data removed]",
      "text/plain": [
       "<Figure size 640x480 with 1 Axes>"
      ]
     },
     "metadata": {},
     "output_type": "display_data"
    }
   ],
   "source": [
    "losses=pd.DataFrame(model2.history.history)\n",
    "losses.plot()"
   ]
  },
  {
   "cell_type": "markdown",
   "id": "c1fea050",
   "metadata": {},
   "source": [
    "### Use the trained model to make predictions on the test data"
   ]
  },
  {
   "cell_type": "code",
   "execution_count": 29,
   "id": "da1196b1",
   "metadata": {},
   "outputs": [
    {
     "name": "stdout",
     "output_type": "stream",
     "text": [
      "1/1 [==============================] - 1s 910ms/step\n",
      "1/1 [==============================] - 0s 49ms/step\n",
      "1/1 [==============================] - 0s 37ms/step\n",
      "1/1 [==============================] - 0s 33ms/step\n",
      "1/1 [==============================] - 0s 50ms/step\n",
      "1/1 [==============================] - 0s 50ms/step\n",
      "1/1 [==============================] - 0s 64ms/step\n",
      "1/1 [==============================] - 0s 34ms/step\n",
      "1/1 [==============================] - 0s 45ms/step\n",
      "1/1 [==============================] - 0s 38ms/step\n",
      "1/1 [==============================] - 0s 52ms/step\n",
      "1/1 [==============================] - 0s 33ms/step\n",
      "1/1 [==============================] - 0s 33ms/step\n",
      "1/1 [==============================] - 0s 34ms/step\n",
      "1/1 [==============================] - 0s 50ms/step\n",
      "1/1 [==============================] - 0s 49ms/step\n",
      "1/1 [==============================] - 0s 36ms/step\n",
      "1/1 [==============================] - 0s 67ms/step\n",
      "1/1 [==============================] - 0s 50ms/step\n",
      "1/1 [==============================] - 0s 49ms/step\n",
      "1/1 [==============================] - 0s 31ms/step\n",
      "1/1 [==============================] - 0s 50ms/step\n",
      "1/1 [==============================] - 0s 52ms/step\n",
      "1/1 [==============================] - 0s 48ms/step\n",
      "1/1 [==============================] - 0s 34ms/step\n",
      "1/1 [==============================] - 0s 48ms/step\n",
      "1/1 [==============================] - 0s 41ms/step\n",
      "1/1 [==============================] - 0s 67ms/step\n",
      "1/1 [==============================] - 0s 49ms/step\n",
      "1/1 [==============================] - 0s 48ms/step\n",
      "1/1 [==============================] - 0s 50ms/step\n"
     ]
    }
   ],
   "source": [
    "test_predictions=[]\n",
    "first_eval_batch=scaled_train[-length:]\n",
    "current_batch=first_eval_batch.reshape((1,length,1))\n",
    "for i in range((len(test))):\n",
    "    current_pred=model2.predict(current_batch)[0]\n",
    "    test_predictions.append(current_pred)\n",
    "    current_batch=np.append(current_batch[:,1:,:],[[current_pred]],axis=1)\n",
    " "
   ]
  },
  {
   "cell_type": "code",
   "execution_count": 30,
   "id": "b9519fb8",
   "metadata": {},
   "outputs": [
    {
     "data": {
      "text/plain": [
       "[array([0.6458263], dtype=float32),\n",
       " array([0.6444829], dtype=float32),\n",
       " array([0.6472516], dtype=float32),\n",
       " array([0.65302604], dtype=float32),\n",
       " array([0.6609211], dtype=float32),\n",
       " array([0.67024153], dtype=float32),\n",
       " array([0.68048275], dtype=float32),\n",
       " array([0.6912425], dtype=float32),\n",
       " array([0.7022277], dtype=float32),\n",
       " array([0.7132123], dtype=float32),\n",
       " array([0.72407466], dtype=float32),\n",
       " array([0.7346621], dtype=float32),\n",
       " array([0.7448652], dtype=float32),\n",
       " array([0.75464785], dtype=float32),\n",
       " array([0.7639733], dtype=float32),\n",
       " array([0.7728122], dtype=float32),\n",
       " array([0.7811352], dtype=float32),\n",
       " array([0.7889498], dtype=float32),\n",
       " array([0.79624677], dtype=float32),\n",
       " array([0.8030313], dtype=float32),\n",
       " array([0.80932325], dtype=float32),\n",
       " array([0.8151427], dtype=float32),\n",
       " array([0.82048994], dtype=float32),\n",
       " array([0.82537615], dtype=float32),\n",
       " array([0.8298365], dtype=float32),\n",
       " array([0.8339084], dtype=float32),\n",
       " array([0.8376079], dtype=float32),\n",
       " array([0.84096354], dtype=float32),\n",
       " array([0.8440073], dtype=float32),\n",
       " array([0.84673494], dtype=float32),\n",
       " array([0.84917754], dtype=float32)]"
      ]
     },
     "execution_count": 30,
     "metadata": {},
     "output_type": "execute_result"
    }
   ],
   "source": [
    "test_predictions"
   ]
  },
  {
   "cell_type": "code",
   "execution_count": 31,
   "id": "651d757a",
   "metadata": {},
   "outputs": [
    {
     "data": {
      "text/plain": [
       "array([[ 810.7015068 ],\n",
       "       [ 809.11146239],\n",
       "       [ 812.38855676],\n",
       "       [ 819.22332082],\n",
       "       [ 828.56809463],\n",
       "       [ 839.59998896],\n",
       "       [ 851.7217318 ],\n",
       "       [ 864.45725522],\n",
       "       [ 877.4595968 ],\n",
       "       [ 890.46123289],\n",
       "       [ 903.31817197],\n",
       "       [ 915.84973681],\n",
       "       [ 927.92632798],\n",
       "       [ 939.5053336 ],\n",
       "       [ 950.54315408],\n",
       "       [ 961.00507908],\n",
       "       [ 970.85639823],\n",
       "       [ 980.10593024],\n",
       "       [ 988.74281047],\n",
       "       [ 996.77317673],\n",
       "       [1004.22045146],\n",
       "       [1011.10848038],\n",
       "       [1017.43761624],\n",
       "       [1023.2210518 ],\n",
       "       [1028.50041124],\n",
       "       [1033.31999966],\n",
       "       [1037.69886542],\n",
       "       [1041.67066061],\n",
       "       [1045.27334088],\n",
       "       [1048.50182665],\n",
       "       [1051.39294475]])"
      ]
     },
     "execution_count": 31,
     "metadata": {},
     "output_type": "execute_result"
    }
   ],
   "source": [
    "true_predictions=scaler.inverse_transform(test_predictions)\n",
    "true_predictions"
   ]
  },
  {
   "cell_type": "code",
   "execution_count": 32,
   "id": "0d780e61",
   "metadata": {},
   "outputs": [
    {
     "data": {
      "text/html": [
       "<div>\n",
       "<style scoped>\n",
       "    .dataframe tbody tr th:only-of-type {\n",
       "        vertical-align: middle;\n",
       "    }\n",
       "\n",
       "    .dataframe tbody tr th {\n",
       "        vertical-align: top;\n",
       "    }\n",
       "\n",
       "    .dataframe thead th {\n",
       "        text-align: right;\n",
       "    }\n",
       "</style>\n",
       "<table border=\"1\" class=\"dataframe\">\n",
       "  <thead>\n",
       "    <tr style=\"text-align: right;\">\n",
       "      <th></th>\n",
       "      <th>Close</th>\n",
       "      <th>LSTM_Predictions</th>\n",
       "    </tr>\n",
       "  </thead>\n",
       "  <tbody>\n",
       "    <tr>\n",
       "      <th>608</th>\n",
       "      <td>870.429993</td>\n",
       "      <td>810.701507</td>\n",
       "    </tr>\n",
       "    <tr>\n",
       "      <th>609</th>\n",
       "      <td>864.369995</td>\n",
       "      <td>809.111462</td>\n",
       "    </tr>\n",
       "    <tr>\n",
       "      <th>610</th>\n",
       "      <td>879.890015</td>\n",
       "      <td>812.388557</td>\n",
       "    </tr>\n",
       "    <tr>\n",
       "      <th>611</th>\n",
       "      <td>839.289978</td>\n",
       "      <td>819.223321</td>\n",
       "    </tr>\n",
       "    <tr>\n",
       "      <th>612</th>\n",
       "      <td>838.289978</td>\n",
       "      <td>828.568095</td>\n",
       "    </tr>\n",
       "    <tr>\n",
       "      <th>613</th>\n",
       "      <td>804.580017</td>\n",
       "      <td>839.599989</td>\n",
       "    </tr>\n",
       "    <tr>\n",
       "      <th>614</th>\n",
       "      <td>824.400024</td>\n",
       "      <td>851.721732</td>\n",
       "    </tr>\n",
       "    <tr>\n",
       "      <th>615</th>\n",
       "      <td>858.969971</td>\n",
       "      <td>864.457255</td>\n",
       "    </tr>\n",
       "    <tr>\n",
       "      <th>616</th>\n",
       "      <td>838.299988</td>\n",
       "      <td>877.459597</td>\n",
       "    </tr>\n",
       "    <tr>\n",
       "      <th>617</th>\n",
       "      <td>795.349976</td>\n",
       "      <td>890.461233</td>\n",
       "    </tr>\n",
       "    <tr>\n",
       "      <th>618</th>\n",
       "      <td>766.369995</td>\n",
       "      <td>903.318172</td>\n",
       "    </tr>\n",
       "    <tr>\n",
       "      <th>619</th>\n",
       "      <td>801.890015</td>\n",
       "      <td>915.849737</td>\n",
       "    </tr>\n",
       "    <tr>\n",
       "      <th>620</th>\n",
       "      <td>840.229980</td>\n",
       "      <td>927.926328</td>\n",
       "    </tr>\n",
       "    <tr>\n",
       "      <th>621</th>\n",
       "      <td>871.599976</td>\n",
       "      <td>939.505334</td>\n",
       "    </tr>\n",
       "    <tr>\n",
       "      <th>622</th>\n",
       "      <td>905.390015</td>\n",
       "      <td>950.543154</td>\n",
       "    </tr>\n",
       "    <tr>\n",
       "      <th>623</th>\n",
       "      <td>921.159973</td>\n",
       "      <td>961.005079</td>\n",
       "    </tr>\n",
       "    <tr>\n",
       "      <th>624</th>\n",
       "      <td>993.979980</td>\n",
       "      <td>970.856398</td>\n",
       "    </tr>\n",
       "    <tr>\n",
       "      <th>625</th>\n",
       "      <td>999.109985</td>\n",
       "      <td>980.105930</td>\n",
       "    </tr>\n",
       "    <tr>\n",
       "      <th>626</th>\n",
       "      <td>1013.919983</td>\n",
       "      <td>988.742810</td>\n",
       "    </tr>\n",
       "    <tr>\n",
       "      <th>627</th>\n",
       "      <td>1010.640015</td>\n",
       "      <td>996.773177</td>\n",
       "    </tr>\n",
       "    <tr>\n",
       "      <th>628</th>\n",
       "      <td>1091.839966</td>\n",
       "      <td>1004.220451</td>\n",
       "    </tr>\n",
       "    <tr>\n",
       "      <th>629</th>\n",
       "      <td>1099.569946</td>\n",
       "      <td>1011.108480</td>\n",
       "    </tr>\n",
       "    <tr>\n",
       "      <th>630</th>\n",
       "      <td>1093.989990</td>\n",
       "      <td>1017.437616</td>\n",
       "    </tr>\n",
       "    <tr>\n",
       "      <th>631</th>\n",
       "      <td>1077.599976</td>\n",
       "      <td>1023.221052</td>\n",
       "    </tr>\n",
       "    <tr>\n",
       "      <th>632</th>\n",
       "      <td>1084.589966</td>\n",
       "      <td>1028.500411</td>\n",
       "    </tr>\n",
       "    <tr>\n",
       "      <th>633</th>\n",
       "      <td>1145.449951</td>\n",
       "      <td>1033.320000</td>\n",
       "    </tr>\n",
       "    <tr>\n",
       "      <th>634</th>\n",
       "      <td>1091.260010</td>\n",
       "      <td>1037.698865</td>\n",
       "    </tr>\n",
       "    <tr>\n",
       "      <th>635</th>\n",
       "      <td>1045.760010</td>\n",
       "      <td>1041.670661</td>\n",
       "    </tr>\n",
       "    <tr>\n",
       "      <th>636</th>\n",
       "      <td>1057.260010</td>\n",
       "      <td>1045.273341</td>\n",
       "    </tr>\n",
       "    <tr>\n",
       "      <th>637</th>\n",
       "      <td>1025.489990</td>\n",
       "      <td>1048.501827</td>\n",
       "    </tr>\n",
       "    <tr>\n",
       "      <th>638</th>\n",
       "      <td>975.929993</td>\n",
       "      <td>1051.392945</td>\n",
       "    </tr>\n",
       "  </tbody>\n",
       "</table>\n",
       "</div>"
      ],
      "text/plain": [
       "           Close  LSTM_Predictions\n",
       "608   870.429993        810.701507\n",
       "609   864.369995        809.111462\n",
       "610   879.890015        812.388557\n",
       "611   839.289978        819.223321\n",
       "612   838.289978        828.568095\n",
       "613   804.580017        839.599989\n",
       "614   824.400024        851.721732\n",
       "615   858.969971        864.457255\n",
       "616   838.299988        877.459597\n",
       "617   795.349976        890.461233\n",
       "618   766.369995        903.318172\n",
       "619   801.890015        915.849737\n",
       "620   840.229980        927.926328\n",
       "621   871.599976        939.505334\n",
       "622   905.390015        950.543154\n",
       "623   921.159973        961.005079\n",
       "624   993.979980        970.856398\n",
       "625   999.109985        980.105930\n",
       "626  1013.919983        988.742810\n",
       "627  1010.640015        996.773177\n",
       "628  1091.839966       1004.220451\n",
       "629  1099.569946       1011.108480\n",
       "630  1093.989990       1017.437616\n",
       "631  1077.599976       1023.221052\n",
       "632  1084.589966       1028.500411\n",
       "633  1145.449951       1033.320000\n",
       "634  1091.260010       1037.698865\n",
       "635  1045.760010       1041.670661\n",
       "636  1057.260010       1045.273341\n",
       "637  1025.489990       1048.501827\n",
       "638   975.929993       1051.392945"
      ]
     },
     "execution_count": 32,
     "metadata": {},
     "output_type": "execute_result"
    }
   ],
   "source": [
    "test['LSTM_Predictions']=true_predictions\n",
    "test"
   ]
  },
  {
   "cell_type": "code",
   "execution_count": 33,
   "id": "7d4e8605",
   "metadata": {},
   "outputs": [
    {
     "data": {
      "text/plain": [
       "<Axes: >"
      ]
     },
     "execution_count": 33,
     "metadata": {},
     "output_type": "execute_result"
    },
    {
     "data": {
      "image/png": "[encoded data removed]",
      "text/plain": [
       "<Figure size 640x480 with 1 Axes>"
      ]
     },
     "metadata": {},
     "output_type": "display_data"
    }
   ],
   "source": [
    "test.plot()"
   ]
  },
  {
   "cell_type": "markdown",
   "id": "42a300cb",
   "metadata": {},
   "source": [
    "### Forecasting"
   ]
  },
  {
   "cell_type": "code",
   "execution_count": 34,
   "id": "fa093452",
   "metadata": {},
   "outputs": [
    {
     "name": "stdout",
     "output_type": "stream",
     "text": [
      "1/1 [==============================] - 0s 32ms/step\n",
      "1/1 [==============================] - 0s 45ms/step\n",
      "1/1 [==============================] - 0s 67ms/step\n",
      "1/1 [==============================] - 0s 33ms/step\n",
      "1/1 [==============================] - 0s 33ms/step\n",
      "1/1 [==============================] - 0s 34ms/step\n",
      "1/1 [==============================] - 0s 49ms/step\n",
      "1/1 [==============================] - 0s 31ms/step\n",
      "1/1 [==============================] - 0s 32ms/step\n",
      "1/1 [==============================] - 0s 51ms/step\n",
      "1/1 [==============================] - 0s 49ms/step\n",
      "1/1 [==============================] - 0s 32ms/step\n",
      "1/1 [==============================] - 0s 48ms/step\n",
      "1/1 [==============================] - 0s 35ms/step\n",
      "1/1 [==============================] - 0s 35ms/step\n",
      "1/1 [==============================] - 0s 64ms/step\n",
      "1/1 [==============================] - 0s 26ms/step\n",
      "1/1 [==============================] - 0s 47ms/step\n",
      "1/1 [==============================] - 0s 44ms/step\n",
      "1/1 [==============================] - 0s 49ms/step\n",
      "1/1 [==============================] - 0s 49ms/step\n",
      "1/1 [==============================] - 0s 34ms/step\n",
      "1/1 [==============================] - 0s 33ms/step\n",
      "1/1 [==============================] - 0s 33ms/step\n",
      "1/1 [==============================] - 0s 48ms/step\n",
      "1/1 [==============================] - 0s 51ms/step\n",
      "1/1 [==============================] - 0s 35ms/step\n",
      "1/1 [==============================] - 0s 33ms/step\n",
      "1/1 [==============================] - 0s 49ms/step\n",
      "1/1 [==============================] - 0s 50ms/step\n",
      "1/1 [==============================] - 0s 42ms/step\n"
     ]
    }
   ],
   "source": [
    "forcast2=[]\n",
    "\n",
    "first_eval_batch=scaled_train[-length:]\n",
    "current_batch=first_eval_batch.reshape((1,length,1))\n",
    "for i in range(len(test)):\n",
    "    current_pred=model2.predict(current_batch)[0]\n",
    "    forcast2.append(current_pred)\n",
    "    current_batch=np.append(current_batch[:,1:,:],[[current_pred]],axis=1)"
   ]
  },
  {
   "cell_type": "code",
   "execution_count": 35,
   "id": "b3200cbc",
   "metadata": {},
   "outputs": [],
   "source": [
    "forcast2=scaler.inverse_transform(forcast2)"
   ]
  },
  {
   "cell_type": "code",
   "execution_count": 36,
   "id": "36289613",
   "metadata": {},
   "outputs": [],
   "source": [
    "full_data=pd.DataFrame(np.concatenate((df_array.flatten(),forcast2.flatten())))\n",
    "previouss_data=pd.DataFrame(df_array.flatten())\n",
    "future_data=pd.DataFrame(forcast2.flatten())"
   ]
  },
  {
   "cell_type": "code",
   "execution_count": 37,
   "id": "7764e339",
   "metadata": {},
   "outputs": [
    {
     "data": {
      "text/plain": [
       "Text(0, 0.5, 'close')"
      ]
     },
     "execution_count": 37,
     "metadata": {},
     "output_type": "execute_result"
    },
    {
     "data": {
      "image/png": "[encoded data removed]",
      "text/plain": [
       "<Figure size 1000x500 with 1 Axes>"
      ]
     },
     "metadata": {},
     "output_type": "display_data"
    }
   ],
   "source": [
    "plt.figure(figsize=(10,5))\n",
    "plt.plot(full_data,label='predicted')\n",
    "plt.plot(previouss_data,label='original')\n",
    "plt.ylabel('close')"
   ]
  }
 ],
 "metadata": {
  "kernelspec": {
   "display_name": "Python 3 (ipykernel)",
   "language": "python",
   "name": "python3"
  },
  "language_info": {
   "codemirror_mode": {
    "name": "ipython",
    "version": 3
   },
   "file_extension": ".py",
   "mimetype": "text/x-python",
   "name": "python",
   "nbconvert_exporter": "python",
   "pygments_lexer": "ipython3",
   "version": "3.11.4"
  }
 },
 "nbformat": 4,
 "nbformat_minor": 5
}
